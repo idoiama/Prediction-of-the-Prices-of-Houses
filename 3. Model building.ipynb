{
 "cells": [
  {
   "cell_type": "markdown",
   "metadata": {},
   "source": [
    "# Introduction"
   ]
  },
  {
   "cell_type": "markdown",
   "metadata": {},
   "source": [
    "To facilitate understanding and pace, let's summarize the other steps we've taken. First of all, we have two sets of data: the *train* and the *test*, which are used respectively to adjust or train the model and to predict home sales. Train dataset has of 81 variables, a slightly high number and it is for this reason that we have carried out an Exploratory Data Analysis to reduce the number.  Finally, only 6 were significant. \n",
    "\n",
    "The aim of this work is to establish a model to predict the price of homes in Ames, therefore, we have done an exhaustive study on the most important variable (also called response variable): *SalePrice*. We have seen that the original data follow a biased distribution and we have corrected it for better results.\n",
    "\n",
    "Now it is time to build the model , a process that will be divided into 3 sections:\n",
    "\n",
    "1. Arrangement of the data for the model\n",
    "2. Model building\n",
    "3. Model prediction"
   ]
  },
  {
   "cell_type": "markdown",
   "metadata": {},
   "source": [
    "## 1. Arrangement of the data for the model"
   ]
  },
  {
   "cell_type": "markdown",
   "metadata": {},
   "source": [
    "Now that we have the data set clean and ready it's time to make the prediction model. First we import the data generated in the previous step: "
   ]
  },
  {
   "cell_type": "code",
   "execution_count": 1,
   "metadata": {},
   "outputs": [],
   "source": [
    "import pandas as pd\n",
    "import pandas as pd #\n",
    "import matplotlib.pyplot as plt\n",
    "import seaborn as sns\n",
    "import numpy as np\n",
    "import os\n",
    "\n",
    "# First we import our new train\n",
    "train_path = r'./input/Train_Filtered_step2.csv'\n",
    "train = pd.read_csv(train_path)"
   ]
  },
  {
   "cell_type": "code",
   "execution_count": 2,
   "metadata": {},
   "outputs": [
    {
     "name": "stdout",
     "output_type": "stream",
     "text": [
      "<class 'pandas.core.frame.DataFrame'>\n",
      "RangeIndex: 1460 entries, 0 to 1459\n",
      "Data columns (total 8 columns):\n",
      "Unnamed: 0     1460 non-null int64\n",
      "SalePrice      1460 non-null float64\n",
      "OverallQual    1460 non-null int64\n",
      "GrLivArea      1460 non-null int64\n",
      "GarageCars     1460 non-null int64\n",
      "GarageArea     1460 non-null int64\n",
      "TotalBsmtSF    1460 non-null int64\n",
      "FullBath       1460 non-null int64\n",
      "dtypes: float64(1), int64(7)\n",
      "memory usage: 91.4 KB\n"
     ]
    }
   ],
   "source": [
    "# We will use the info method to gain information about our dataset (see Step 1 for further information)\n",
    "train.info()"
   ]
  },
  {
   "cell_type": "markdown",
   "metadata": {},
   "source": [
    "First of all, to evaluate the type of variables we have. Let's remember that we are going to build a mathematical model, so we need numerical variables to be able to proceed. In our case, all variables are numerical (int64) so it is not necessary to make any transformation."
   ]
  },
  {
   "cell_type": "markdown",
   "metadata": {},
   "source": [
    "=== The **Appendix Section 2** contains complementary information on how to translate categorical variables (characters) into numbers or vectors==="
   ]
  },
  {
   "cell_type": "markdown",
   "metadata": {},
   "source": [
    "**Final preparation of the training dataset**"
   ]
  },
  {
   "cell_type": "markdown",
   "metadata": {},
   "source": [
    "Machine learning algorithms are described as learning a target function (f) that best maps input variables (X) to an output variable (Y) or response variable.\n",
    "\n",
    "Y = f(X)\n",
    "\n",
    "This is a general learning task where we would like to make predictions in the future (Y) given new examples of input variables (X). In our case, the input variables (X) correspond to: \n",
    "\n",
    "*OverallQual    \n",
    "GrLivArea      \n",
    "GarageCars     \n",
    "GarageArea     \n",
    "TotalBsmtSF    \n",
    "FullBath*     \n",
    "\n",
    "whereas the output variable (Y) is what we want to predict so: *SalesPrice*"
   ]
  },
  {
   "cell_type": "code",
   "execution_count": 3,
   "metadata": {},
   "outputs": [],
   "source": [
    "y = train['SalePrice']\n",
    "train = train.drop(['SalePrice'], axis = 1) # we have to drop the response variable"
   ]
  },
  {
   "cell_type": "markdown",
   "metadata": {},
   "source": [
    "**Splitting the data**"
   ]
  },
  {
   "cell_type": "markdown",
   "metadata": {},
   "source": [
    "Before choosing which algorithms we are going to use to build our prediction model we have to consider **how are we going to evaluate its performance**. \n",
    "\n",
    "Now we should be preparing the data for our regression model by splitting our data into two distinct sets of data —one for Training and another for Testing.\n",
    "\n",
    "Why do we do this instead of just using the entire dataset? Because while training our model, the algorithm will attempt to adjust the model to the given data and will be fairly accurate in predicting the *Sales Price*. But this is not what we want.\n",
    "We want a model which is able to accurately predict outcomes given variable combinations which it does not know or have seen before. In other words a model is only good if it can predict accurately using new data.\n",
    "\n",
    "There are several ways to perform this split and in this precedure we are going to use the *Train_Test Split approach*. We will randomly split the complete data into training and test sets. Then Perform the model training on the training set and use the test set for validation purpose, ideally split the data into 70:30 (train : test). \n"
   ]
  },
  {
   "cell_type": "code",
   "execution_count": 4,
   "metadata": {},
   "outputs": [
    {
     "name": "stdout",
     "output_type": "stream",
     "text": [
      "Our training target/prediction variable contains : 1022 rows\n",
      "Our training input variables contains : 1022 rows\n",
      "Our testing target/prediction variables contains : 438 rows\n",
      "Our testing input variable contains : 438 rows\n"
     ]
    }
   ],
   "source": [
    "# Import the splitting function to the data and an additional cross validation function\n",
    "from sklearn.model_selection import train_test_split, cross_val_score\n",
    "\n",
    "# We will split our dataset randomly in order to have a test data containing 30% of the data,\n",
    "X_train, X_test, y_train, y_test = train_test_split(train,y, \n",
    "                                                    test_size=0.3, \n",
    "                                                    random_state=42)\n",
    "# view number of training and testing data\n",
    "print('Our training target/prediction variable contains :',len(y_train) ,'rows')\n",
    "print('Our training input variables contains :',len(X_train) ,'rows')\n",
    "print('Our testing target/prediction variables contains :',len(y_test) ,'rows')\n",
    "print('Our testing input variable contains :',len(X_test) ,'rows')"
   ]
  },
  {
   "cell_type": "markdown",
   "metadata": {},
   "source": [
    "## 2. Model building"
   ]
  },
  {
   "cell_type": "markdown",
   "metadata": {},
   "source": [
    "To facilitate the comprehension, this section will be divided into:\n",
    "    \n",
    "    a) Initialization of the model and parameters\n",
    "    b) Training the model and Cross-validation\n",
    "    c) Testing the model\n",
    "    d) Evaluation of the model"
   ]
  },
  {
   "cell_type": "markdown",
   "metadata": {},
   "source": [
    "### a) Initialization of the model and parameters"
   ]
  },
  {
   "cell_type": "markdown",
   "metadata": {},
   "source": [
    "Selecting the model is not very difficult if you are using Python that has so many model libraries. The most important thing is to choose the **correct algorithm** that fits and describes the problem and then select the Model Parameters to initialize the model. We can define *Model Parameters* as the set of mathematical rules that the model neededs to fit. The value of this parameters define the \"weight\" and the \"bias\" of those rules which, for example, makes the penalty level of the algorithm or the reaction points different. A similar model with different parameter values could result in very different and/or unbiased results.\n",
    "\n",
    "As in all life situations, the simplest option, if it works best. That is why we will test one common algorithm in this first attemp: **Ridge Regression** which works very effectively to reduce the complexity of the model and avoid the over-adjustment that can result from simple linear regression."
   ]
  },
  {
   "cell_type": "markdown",
   "metadata": {},
   "source": [
    "#### Ridge Regression algorithm"
   ]
  },
  {
   "cell_type": "markdown",
   "metadata": {},
   "source": [
    "*Ridge Regression* is used to reduce the coefficient values of the model for variables that suffer from multicollinearity. To do this, it uses a regularization function to control bias. The force of the adjustment is determined by the alpha value. Too low an alpha value and the regularization function does nothing to control the coefficients and returns to a simple regression model.\n"
   ]
  },
  {
   "cell_type": "code",
   "execution_count": 5,
   "metadata": {},
   "outputs": [],
   "source": [
    "# First of all let's import the library\n",
    "import sklearn.metrics\n",
    "from sklearn.linear_model import Ridge\n",
    "\n",
    "# Instantiate the regression model and setting parameters\n",
    "reg_model = Ridge(alpha=1, solver= 'svd')"
   ]
  },
  {
   "cell_type": "markdown",
   "metadata": {},
   "source": [
    "### b) Training the model and Cross-validation"
   ]
  },
  {
   "cell_type": "markdown",
   "metadata": {},
   "source": [
    "**Training of the model**"
   ]
  },
  {
   "cell_type": "markdown",
   "metadata": {},
   "source": [
    "Now it is time to fit our training data to the model, which would run the regression algorithm towards the data and will return the coefficient values for each target variable and an intercept value"
   ]
  },
  {
   "cell_type": "code",
   "execution_count": 6,
   "metadata": {},
   "outputs": [
    {
     "name": "stdout",
     "output_type": "stream",
     "text": [
      "      features  coeficients\n",
      "0   Unnamed: 0    -0.000020\n",
      "1  OverallQual     0.123221\n",
      "2    GrLivArea     0.000148\n",
      "3   GarageCars     0.115396\n",
      "4   GarageArea     0.000045\n",
      "5  TotalBsmtSF     0.000109\n",
      "6     FullBath     0.046837\n"
     ]
    }
   ],
   "source": [
    "# Let's fit the train set into the model\n",
    "reg_model.fit(X_train, y_train)\n",
    "\n",
    "# Return the coefficients\n",
    "print(pd.DataFrame({'features':X_train.columns,'coeficients':reg_model.coef_}))"
   ]
  },
  {
   "cell_type": "markdown",
   "metadata": {},
   "source": [
    "From the coefficients that we have just calculated we can approximate our prediction function as such:\n",
    "\n",
    "**SalesPrice = 0.12[OverallQual] + 0[GrLivArea] + 0.11[GarageCars] + 0[GarageArea] + 0[TotalBsmtSF] + 0.04[FullBath]**\n",
    "\n",
    "The value that accompanies each of the input variables is an indication of the weight that this variable has to explain the data. Thus, we can see that the most important variables are OverallQual and GarageCars. The other variables do not have an impact on the prediction model."
   ]
  },
  {
   "cell_type": "markdown",
   "metadata": {},
   "source": [
    "**Cross-validation with K-folds**"
   ]
  },
  {
   "cell_type": "markdown",
   "metadata": {},
   "source": [
    "Cross validation is a technique that aims to produce a more comprehensive result of statistical analysis by working through every available data on a rotational basis. We are going to run **K-Fold Cross Validation** on our model. Below is a brief overview of the technique.\n",
    "\n",
    "We normally have to choose a K value, for instance K = 10.\n",
    "\n",
    "Then we divide our data into 10 equal parts and we take the first part and make that your testing set leaving the remaining 9 part for training. Then, it is time to build the model and compute the accuracy score. This process is repeated the 2nd part as the testing set (instead of the first), and the 3rd part and so on until all 10 parts have been used for testing. To assess the results the average scores for all 10 iterations is computed.\n",
    "\n",
    "Let’s run our cross-validation and save the scores for evaluation later."
   ]
  },
  {
   "cell_type": "code",
   "execution_count": 7,
   "metadata": {},
   "outputs": [
    {
     "name": "stdout",
     "output_type": "stream",
     "text": [
      "Cross Validation scores: [0.83 0.82 0.65 0.46 0.84 0.77 0.78 0.84 0.75 0.86]\n",
      "\n",
      "Average 10-Fold CV Score: 0.76\n"
     ]
    }
   ],
   "source": [
    "from sklearn.model_selection import cross_val_score\n",
    "import math\n",
    "\n",
    "cv_reg_model = Ridge() #Let's initialize the method \n",
    "cv_scores = cross_val_score(cv_reg_model, X_train, y_train,cv=10, scoring='r2') # Let's define the K and the \n",
    "\n",
    "print('Cross Validation scores: {}'.format(cv_scores.round(2)))\n",
    "print(\"\\nAverage 10-Fold CV Score: {}\".format(np.mean(cv_scores).round(3)))"
   ]
  },
  {
   "cell_type": "markdown",
   "metadata": {},
   "source": [
    "### c) Testing the model"
   ]
  },
  {
   "cell_type": "markdown",
   "metadata": {},
   "source": [
    "It is time now to predict the test data through the trained regression model. The output will be our model’s prediction of Sale Price given values of the independent variables.\n",
    "\n",
    "For a better understanding, we are going to represent them in a plot."
   ]
  },
  {
   "cell_type": "code",
   "execution_count": 8,
   "metadata": {},
   "outputs": [
    {
     "name": "stdout",
     "output_type": "stream",
     "text": [
      "Sample predictions for the first 5 houses are:\n",
      " [11.815 12.514 11.809 12.074 12.631]\n"
     ]
    },
    {
     "data": {
      "image/png": "[encoded data removed]",
      "text/plain": [
       "<Figure size 432x432 with 1 Axes>"
      ]
     },
     "metadata": {
      "needs_background": "light"
     },
     "output_type": "display_data"
    }
   ],
   "source": [
    "# We will predict the Sales Price of our test sett\n",
    "y_pred = reg_model.predict(X_test)\n",
    "print('Sample predictions for the first 5 houses are:\\n', y_pred[:5].flatten().round(3))\n",
    "\n",
    "y_pred_a = pd.DataFrame(y_pred)\n",
    "y_test_a = y_test.reset_index(drop=True, inplace=False)\n",
    "# We create a new dataframe containing both the real (y_test) and the predicted value by the model (y_pred)\n",
    "pred_act_df = pd.concat([y_test_a,y_pred_a], axis=1).sort_values(1,axis=1).reset_index(drop=True)\n",
    "\n",
    "# Let's represent the preducted values vs the real House value\n",
    "plt.figure(figsize=(6, 6))\n",
    "maxlimit = pred_act_df['SalePrice'].max()\n",
    "minlimit = pred_act_df['SalePrice'].min()\n",
    "\n",
    "plt.xlim(-1, maxlimit)\n",
    "plt.ylim(-1, maxlimit)\n",
    "plt.scatter(pred_act_df[0], pred_act_df['SalePrice'], s=10)\n",
    "plt.xlabel('Predicted Sale Price')\n",
    "plt.ylabel('Real Sale Price')\n",
    "plt.autoscale(enable=True, axis='x', tight=True)\n",
    "plt.autoscale(enable=True, axis='y', tight=True)\n",
    "plt.plot([minlimit,maxlimit], [minlimit,maxlimit], ls=\"--\", c=\".3\")\n",
    "plt.title('Actual vs Predicted Sale Prices')\n",
    "plt.show()"
   ]
  },
  {
   "cell_type": "markdown",
   "metadata": {},
   "source": [
    "In the graph above, for each house we see a representation of its real value against the one predicted by the model. The closer the points of the diagonal line are, the better the accuracy of our predictions (this would mean that our predicted values match the actual values).  The dots above the line indicate a prediction value lower than the real value and vice versa."
   ]
  },
  {
   "cell_type": "markdown",
   "metadata": {},
   "source": [
    "### d) Evaluation of the model"
   ]
  },
  {
   "cell_type": "markdown",
   "metadata": {},
   "source": [
    "It’s finally time to evaluate the regression model that we built. Every machine learning model has different sets of metrics for determining how accurate is the model.\n",
    "\n",
    "For regression models which deal with predicting numerical values, evaluation metrics are:\n",
    "- Root Mean Squared Error (RMSE)\n",
    "- R-square and/or Adjusted R-squared\n",
    "- Residual Plots"
   ]
  },
  {
   "cell_type": "markdown",
   "metadata": {},
   "source": [
    "**Root Mean Squared Error (RMSE)**\n",
    "\n",
    "\n",
    "The RMSE is a very good metric to evaluate regression models as it provides a clear value which represents the amount of total ‘error’ in the model. A lower RMSE value is desired."
   ]
  },
  {
   "cell_type": "code",
   "execution_count": 9,
   "metadata": {},
   "outputs": [
    {
     "name": "stdout",
     "output_type": "stream",
     "text": [
      "Root Mean Squared Error of Training Set: 0.178\n",
      "Root Mean Squared Error of Testing Set: 0.166\n"
     ]
    }
   ],
   "source": [
    "from sklearn.metrics import mean_squared_error\n",
    "\n",
    "y_pred_test = reg_model.predict(X_test)\n",
    "y_pred_train = reg_model.predict(X_train)\n",
    "\n",
    "rmse_test = np.sqrt(mean_squared_error(y_test, y_pred_test)).round(3)\n",
    "rmse_train = np.sqrt(mean_squared_error(y_train, y_pred_train)).round(3)\n",
    "\n",
    "print(\"Root Mean Squared Error of Training Set: {}\".format(rmse_train))\n",
    "print(\"Root Mean Squared Error of Testing Set: {}\".format(rmse_test))"
   ]
  },
  {
   "cell_type": "markdown",
   "metadata": {},
   "source": [
    "**RMSE** is calculated from the prediction variable, if the subject you are trying to predict has values ranging from 0 to 1, your **RMSE** is likely to be very small. \n",
    "\n",
    "In our case, the target variable (*SalePrice*) ranges from 11-13 aproximately. Those values may sound really small but let me remind you that on Step 2, we applied a transformation in order to achive normal distribution of the *SalesPrice* of the different houses. Taking into account this consideration we can say that RMSE is really small so that the error on the predictions is quite small as well. \n",
    "\n",
    "We will also use **RMSE** to compare between iterations of the same model or between training and testing models. If both calculated **RMSE** are quite similar, it indicates that the model is not under or over fitted. That is our case, so let's continue analysing the other evaluation metrics!"
   ]
  },
  {
   "cell_type": "markdown",
   "metadata": {},
   "source": [
    "**R-squared (R^2)**"
   ]
  },
  {
   "cell_type": "markdown",
   "metadata": {},
   "source": [
    "*R-square* explains the amount of model variability attributed to target variable, in our case  *SalePrice*. The R-squared values always range between 0 and 1, generally the higher the value the better. It tells us how well did our model fitted to the data. "
   ]
  },
  {
   "cell_type": "code",
   "execution_count": 10,
   "metadata": {},
   "outputs": [
    {
     "name": "stdout",
     "output_type": "stream",
     "text": [
      "Training set score: 0.78\n",
      "Average Cross-Validation Score: 0.76\n"
     ]
    }
   ],
   "source": [
    "#R2 for the training and testing scores\n",
    "print(\"Training set score: {:.2f}\".format(reg_model.score(X_train, y_train)))\n",
    "\n",
    "print(\"Average Cross-Validation Score: {}\".format(np.mean(cv_scores).round(3)))"
   ]
  },
  {
   "cell_type": "markdown",
   "metadata": {},
   "source": [
    "In our case, R-squared deals around 0.70 which means that 70% of the variation in house prices data which we have can be attributed to the input variables which have included. "
   ]
  },
  {
   "cell_type": "markdown",
   "metadata": {},
   "source": [
    "**Residual plot**"
   ]
  },
  {
   "cell_type": "markdown",
   "metadata": {},
   "source": [
    "The **residuals** of an adjusted model are the differences between the predicted real values in each combination of values of the explanatory variables and the corresponding prediction of the response calculated using the mode.  In our case of study, they will be the real Price of the house and the one predicted by the model\n",
    "\n",
    "One really intuitive way to analyse them is by plotting them. This is a graph which plots each positive and negative residual error which are the outcome of actual values minus the predicted values.\n",
    "\n",
    "Ideally, we want our **residual errors to be free of bias** and form a clear nondescript pattern of distribution across the mean. If our model is able to capture (almost) all the information which influence the actual predicted values, what would be left are errors which would only occur due to random chance. These error values thus behave and appear randomly.\n",
    "\n",
    "For a better understanding, it is possible to represent a *Probability Plot* which will also help us check for normality of the residuals, if all the point fits on the straight line then the residuals are 'normal'."
   ]
  },
  {
   "cell_type": "code",
   "execution_count": 11,
   "metadata": {},
   "outputs": [
    {
     "data": {
      "image/png": "[encoded data removed]",
      "text/plain": [
       "<Figure size 1296x360 with 2 Axes>"
      ]
     },
     "metadata": {
      "needs_background": "light"
     },
     "output_type": "display_data"
    }
   ],
   "source": [
    "from scipy import stats\n",
    "\n",
    "# Let's first calculate the residuals\n",
    "y_pred = pd.DataFrame(y_pred)\n",
    "y_test = y_test.reset_index(drop=True)\n",
    "residuals = y_test - y_pred[0]\n",
    "\n",
    "# Plot the residuals\n",
    "plt.figure(figsize=(18, 5))\n",
    "plt.subplot(1,2,1)\n",
    "plt.axhline(0, color=\"blue\")\n",
    "plt.title('Plot of Residuals')\n",
    "plt.scatter(residuals.index,residuals, s=20)\n",
    "\n",
    "# Plot the Probability plot\n",
    "plt.subplot(1,2,2)\n",
    "plt.title('Probability Plot')\n",
    "stats.probplot(residuals, dist='norm',plot=plt)\n",
    "plt.show()"
   ]
  },
  {
   "cell_type": "markdown",
   "metadata": {},
   "source": [
    "The *Plot of Residuals* (left graph)reveal that our error values are distributed rather evenly across the expected mean of zero, this is a good sign. However there are a couple of distinct outliers present."
   ]
  },
  {
   "cell_type": "markdown",
   "metadata": {},
   "source": [
    "The *Probability Plot* also indicates that the residuals are not exactly ‘normal’. The slight downward shape of the curve implies a right-skewed distribution and the outliers are very evident. It could be that the outliers are affecting our model’s accuracy and dealing with them could bring us better results."
   ]
  },
  {
   "cell_type": "markdown",
   "metadata": {},
   "source": [
    "### e) Evaluation summary"
   ]
  },
  {
   "cell_type": "markdown",
   "metadata": {},
   "source": [
    "The evaluation metrics and plots of the model are thus used to validate the model within known acceptable value range and to compare between different future versions or iteration of the model for ‘prediction strength’.\n",
    "\n",
    "While the current prediction function is now ready to be applied, there are some improvements which can be made to the model:\n",
    "\n",
    "- Repeat the EDA analysis and consider the addition of more variables to the analysis\n",
    "- Use a more complex regression algorithm such as XGBOOST or SVR\n",
    "\n",
    "Building a machine learning model is not a plug and chug process because the process and outcome is influenced by:\n",
    "\n",
    "- The choice of algorithm and assumption which is taken while building the model\n",
    "- The process of optimizing and fine-tuning model parameters\n",
    "- The decision criteria for evaluation of the model’s outcome\n",
    "- The trade-off taken with the model — do we make it more accurate but more bias or less bias and less accurate?"
   ]
  },
  {
   "cell_type": "markdown",
   "metadata": {},
   "source": [
    "## 3. Model prediction"
   ]
  },
  {
   "cell_type": "markdown",
   "metadata": {},
   "source": [
    "We already have our model developed, so it is time to use it to predict the unknow price of some houses in Ames.\n",
    "\n",
    "For this step, we are going to use the 'test.csv' file provided by *AmesHouse Real State*. If we remember, this file had a list of different houses with their characteristics, so that the variables that we used to train the model."
   ]
  },
  {
   "cell_type": "code",
   "execution_count": 20,
   "metadata": {},
   "outputs": [],
   "source": [
    "import pandas as pd\n",
    "import pandas as pd #\n",
    "import matplotlib.pyplot as plt\n",
    "import numpy as np\n",
    "import os\n",
    "\n",
    "# Import the test, so that the data that we are going to use to predict and assess the quality of the model\n",
    "to_pred_path = r'./input/test.csv'\n",
    "to_pred = pd.read_csv(to_pred_path) # We will label it as to_pred"
   ]
  },
  {
   "cell_type": "code",
   "execution_count": 21,
   "metadata": {},
   "outputs": [
    {
     "name": "stdout",
     "output_type": "stream",
     "text": [
      "<class 'pandas.core.frame.DataFrame'>\n",
      "RangeIndex: 1459 entries, 0 to 1458\n",
      "Data columns (total 80 columns):\n",
      "Id               1459 non-null int64\n",
      "MSSubClass       1459 non-null int64\n",
      "MSZoning         1455 non-null object\n",
      "LotFrontage      1232 non-null float64\n",
      "LotArea          1459 non-null int64\n",
      "Street           1459 non-null object\n",
      "Alley            107 non-null object\n",
      "LotShape         1459 non-null object\n",
      "LandContour      1459 non-null object\n",
      "Utilities        1457 non-null object\n",
      "LotConfig        1459 non-null object\n",
      "LandSlope        1459 non-null object\n",
      "Neighborhood     1459 non-null object\n",
      "Condition1       1459 non-null object\n",
      "Condition2       1459 non-null object\n",
      "BldgType         1459 non-null object\n",
      "HouseStyle       1459 non-null object\n",
      "OverallQual      1459 non-null int64\n",
      "OverallCond      1459 non-null int64\n",
      "YearBuilt        1459 non-null int64\n",
      "YearRemodAdd     1459 non-null int64\n",
      "RoofStyle        1459 non-null object\n",
      "RoofMatl         1459 non-null object\n",
      "Exterior1st      1458 non-null object\n",
      "Exterior2nd      1458 non-null object\n",
      "MasVnrType       1443 non-null object\n",
      "MasVnrArea       1444 non-null float64\n",
      "ExterQual        1459 non-null object\n",
      "ExterCond        1459 non-null object\n",
      "Foundation       1459 non-null object\n",
      "BsmtQual         1415 non-null object\n",
      "BsmtCond         1414 non-null object\n",
      "BsmtExposure     1415 non-null object\n",
      "BsmtFinType1     1417 non-null object\n",
      "BsmtFinSF1       1458 non-null float64\n",
      "BsmtFinType2     1417 non-null object\n",
      "BsmtFinSF2       1458 non-null float64\n",
      "BsmtUnfSF        1458 non-null float64\n",
      "TotalBsmtSF      1458 non-null float64\n",
      "Heating          1459 non-null object\n",
      "HeatingQC        1459 non-null object\n",
      "CentralAir       1459 non-null object\n",
      "Electrical       1459 non-null object\n",
      "1stFlrSF         1459 non-null int64\n",
      "2ndFlrSF         1459 non-null int64\n",
      "LowQualFinSF     1459 non-null int64\n",
      "GrLivArea        1459 non-null int64\n",
      "BsmtFullBath     1457 non-null float64\n",
      "BsmtHalfBath     1457 non-null float64\n",
      "FullBath         1459 non-null int64\n",
      "HalfBath         1459 non-null int64\n",
      "BedroomAbvGr     1459 non-null int64\n",
      "KitchenAbvGr     1459 non-null int64\n",
      "KitchenQual      1458 non-null object\n",
      "TotRmsAbvGrd     1459 non-null int64\n",
      "Functional       1457 non-null object\n",
      "Fireplaces       1459 non-null int64\n",
      "FireplaceQu      729 non-null object\n",
      "GarageType       1383 non-null object\n",
      "GarageYrBlt      1381 non-null float64\n",
      "GarageFinish     1381 non-null object\n",
      "GarageCars       1458 non-null float64\n",
      "GarageArea       1458 non-null float64\n",
      "GarageQual       1381 non-null object\n",
      "GarageCond       1381 non-null object\n",
      "PavedDrive       1459 non-null object\n",
      "WoodDeckSF       1459 non-null int64\n",
      "OpenPorchSF      1459 non-null int64\n",
      "EnclosedPorch    1459 non-null int64\n",
      "3SsnPorch        1459 non-null int64\n",
      "ScreenPorch      1459 non-null int64\n",
      "PoolArea         1459 non-null int64\n",
      "PoolQC           3 non-null object\n",
      "Fence            290 non-null object\n",
      "MiscFeature      51 non-null object\n",
      "MiscVal          1459 non-null int64\n",
      "MoSold           1459 non-null int64\n",
      "YrSold           1459 non-null int64\n",
      "SaleType         1458 non-null object\n",
      "SaleCondition    1459 non-null object\n",
      "dtypes: float64(11), int64(26), object(43)\n",
      "memory usage: 912.0+ KB\n"
     ]
    }
   ],
   "source": [
    "to_pred.info()"
   ]
  },
  {
   "cell_type": "markdown",
   "metadata": {},
   "source": [
    "This dataset contains the same number of variables as we had in the beginning, except for the target variable (PriceSale). This is the value that we want to predict from them."
   ]
  },
  {
   "cell_type": "markdown",
   "metadata": {},
   "source": [
    "**Arrangement of the data**"
   ]
  },
  {
   "cell_type": "markdown",
   "metadata": {},
   "source": [
    "Why is it necessary to choose the variables again? As we have trained our model with 6 variables, if we try to predict with all 78 variables will not work. Mathematically speaking, as the dimensions do not coincide, the model will not be able to predict.\n",
    "\n",
    "So we are going to select the same variables that we have determined in step 2 which are: 'OverallQual','GrLivArea', 'GarageCars', 'GarageArea','TotalBsmtSF' and'FullBath'. "
   ]
  },
  {
   "cell_type": "code",
   "execution_count": 22,
   "metadata": {},
   "outputs": [
    {
     "data": {
      "text/html": [
       "<div>\n",
       "<style scoped>\n",
       "    .dataframe tbody tr th:only-of-type {\n",
       "        vertical-align: middle;\n",
       "    }\n",
       "\n",
       "    .dataframe tbody tr th {\n",
       "        vertical-align: top;\n",
       "    }\n",
       "\n",
       "    .dataframe thead th {\n",
       "        text-align: right;\n",
       "    }\n",
       "</style>\n",
       "<table border=\"1\" class=\"dataframe\">\n",
       "  <thead>\n",
       "    <tr style=\"text-align: right;\">\n",
       "      <th></th>\n",
       "      <th>Id</th>\n",
       "      <th>OverallQual</th>\n",
       "      <th>GrLivArea</th>\n",
       "      <th>GarageCars</th>\n",
       "      <th>GarageArea</th>\n",
       "      <th>TotalBsmtSF</th>\n",
       "      <th>FullBath</th>\n",
       "    </tr>\n",
       "  </thead>\n",
       "  <tbody>\n",
       "    <tr>\n",
       "      <td>0</td>\n",
       "      <td>1461</td>\n",
       "      <td>5</td>\n",
       "      <td>896</td>\n",
       "      <td>1.0</td>\n",
       "      <td>730.0</td>\n",
       "      <td>882.0</td>\n",
       "      <td>1</td>\n",
       "    </tr>\n",
       "    <tr>\n",
       "      <td>1</td>\n",
       "      <td>1462</td>\n",
       "      <td>6</td>\n",
       "      <td>1329</td>\n",
       "      <td>1.0</td>\n",
       "      <td>312.0</td>\n",
       "      <td>1329.0</td>\n",
       "      <td>1</td>\n",
       "    </tr>\n",
       "    <tr>\n",
       "      <td>2</td>\n",
       "      <td>1463</td>\n",
       "      <td>5</td>\n",
       "      <td>1629</td>\n",
       "      <td>2.0</td>\n",
       "      <td>482.0</td>\n",
       "      <td>928.0</td>\n",
       "      <td>2</td>\n",
       "    </tr>\n",
       "    <tr>\n",
       "      <td>3</td>\n",
       "      <td>1464</td>\n",
       "      <td>6</td>\n",
       "      <td>1604</td>\n",
       "      <td>2.0</td>\n",
       "      <td>470.0</td>\n",
       "      <td>926.0</td>\n",
       "      <td>2</td>\n",
       "    </tr>\n",
       "    <tr>\n",
       "      <td>4</td>\n",
       "      <td>1465</td>\n",
       "      <td>8</td>\n",
       "      <td>1280</td>\n",
       "      <td>2.0</td>\n",
       "      <td>506.0</td>\n",
       "      <td>1280.0</td>\n",
       "      <td>2</td>\n",
       "    </tr>\n",
       "  </tbody>\n",
       "</table>\n",
       "</div>"
      ],
      "text/plain": [
       "     Id  OverallQual  GrLivArea  GarageCars  GarageArea  TotalBsmtSF  FullBath\n",
       "0  1461            5        896         1.0       730.0        882.0         1\n",
       "1  1462            6       1329         1.0       312.0       1329.0         1\n",
       "2  1463            5       1629         2.0       482.0        928.0         2\n",
       "3  1464            6       1604         2.0       470.0        926.0         2\n",
       "4  1465            8       1280         2.0       506.0       1280.0         2"
      ]
     },
     "execution_count": 22,
     "metadata": {},
     "output_type": "execute_result"
    }
   ],
   "source": [
    "important_list = ['Id','OverallQual','GrLivArea', 'GarageCars', 'GarageArea','TotalBsmtSF','FullBath']\n",
    "to_pred = to_pred[important_list]\n",
    "to_pred.head()"
   ]
  },
  {
   "cell_type": "markdown",
   "metadata": {},
   "source": [
    "**Missing Data**"
   ]
  },
  {
   "cell_type": "markdown",
   "metadata": {},
   "source": [
    "Let's evaluate the amount and percentage of missing data. Rememer that the variables that we are using are numerical, so that a good approach is to replace those missing values by zero. For further information have a look at **Appendix - Section 1**"
   ]
  },
  {
   "cell_type": "code",
   "execution_count": 23,
   "metadata": {},
   "outputs": [
    {
     "data": {
      "text/html": [
       "<div>\n",
       "<style scoped>\n",
       "    .dataframe tbody tr th:only-of-type {\n",
       "        vertical-align: middle;\n",
       "    }\n",
       "\n",
       "    .dataframe tbody tr th {\n",
       "        vertical-align: top;\n",
       "    }\n",
       "\n",
       "    .dataframe thead th {\n",
       "        text-align: right;\n",
       "    }\n",
       "</style>\n",
       "<table border=\"1\" class=\"dataframe\">\n",
       "  <thead>\n",
       "    <tr style=\"text-align: right;\">\n",
       "      <th></th>\n",
       "      <th>Total</th>\n",
       "      <th>Percent</th>\n",
       "    </tr>\n",
       "  </thead>\n",
       "  <tbody>\n",
       "    <tr>\n",
       "      <td>TotalBsmtSF</td>\n",
       "      <td>1</td>\n",
       "      <td>0.000685</td>\n",
       "    </tr>\n",
       "    <tr>\n",
       "      <td>GarageArea</td>\n",
       "      <td>1</td>\n",
       "      <td>0.000685</td>\n",
       "    </tr>\n",
       "    <tr>\n",
       "      <td>GarageCars</td>\n",
       "      <td>1</td>\n",
       "      <td>0.000685</td>\n",
       "    </tr>\n",
       "    <tr>\n",
       "      <td>FullBath</td>\n",
       "      <td>0</td>\n",
       "      <td>0.000000</td>\n",
       "    </tr>\n",
       "    <tr>\n",
       "      <td>GrLivArea</td>\n",
       "      <td>0</td>\n",
       "      <td>0.000000</td>\n",
       "    </tr>\n",
       "    <tr>\n",
       "      <td>OverallQual</td>\n",
       "      <td>0</td>\n",
       "      <td>0.000000</td>\n",
       "    </tr>\n",
       "    <tr>\n",
       "      <td>Id</td>\n",
       "      <td>0</td>\n",
       "      <td>0.000000</td>\n",
       "    </tr>\n",
       "  </tbody>\n",
       "</table>\n",
       "</div>"
      ],
      "text/plain": [
       "             Total   Percent\n",
       "TotalBsmtSF      1  0.000685\n",
       "GarageArea       1  0.000685\n",
       "GarageCars       1  0.000685\n",
       "FullBath         0  0.000000\n",
       "GrLivArea        0  0.000000\n",
       "OverallQual      0  0.000000\n",
       "Id               0  0.000000"
      ]
     },
     "execution_count": 23,
     "metadata": {},
     "output_type": "execute_result"
    }
   ],
   "source": [
    "total = to_pred.isnull().sum().sort_values(ascending=False)\n",
    "percent = (to_pred.isnull().sum()/to_pred.isnull().count()).sort_values(ascending=False)\n",
    "missing_data = pd.concat([total, percent], axis=1, keys=['Total', 'Percent'])\n",
    "missing_data.head(20)"
   ]
  },
  {
   "cell_type": "code",
   "execution_count": 24,
   "metadata": {},
   "outputs": [],
   "source": [
    "to_pred = to_pred.fillna(0) # Fill the Missing values by Zero"
   ]
  },
  {
   "cell_type": "markdown",
   "metadata": {},
   "source": [
    "Now it is time to predict the price of the houses with the model developed above"
   ]
  },
  {
   "cell_type": "code",
   "execution_count": 25,
   "metadata": {},
   "outputs": [
    {
     "name": "stdout",
     "output_type": "stream",
     "text": [
      "Sample predictions for the first 5 houses are:\n",
      "         0\n",
      "0  11.815\n",
      "1  12.514\n",
      "2  11.809\n",
      "3  12.074\n",
      "4  12.631\n"
     ]
    }
   ],
   "source": [
    "# We will predict the Sales Price of our test sett\n",
    "y_to_pred = reg_model.predict(to_pred)\n",
    "print('Sample predictions for the first 5 houses are:\\n', y_pred[:5].round(3))"
   ]
  },
  {
   "cell_type": "markdown",
   "metadata": {},
   "source": [
    "The *predicted values* do not show the reality of the problem, in other words it does not make sense to sell a house by 11.8$. The main reason is that we transformed the data in order to have a normalised distribution by using a logaritmic transformation. So it is time now to reverse tis transformation by calling an exponential function"
   ]
  },
  {
   "cell_type": "code",
   "execution_count": 26,
   "metadata": {},
   "outputs": [
    {
     "name": "stdout",
     "output_type": "stream",
     "text": [
      "[115353.293 143407.741 150331.545 ... 136074.3    97991.523 224803.802]\n"
     ]
    }
   ],
   "source": [
    "y_to_pred = np.expm1(y_to_pred)\n",
    "print(y_to_pred.round(3))"
   ]
  },
  {
   "cell_type": "markdown",
   "metadata": {},
   "source": [
    "Let's plot the predicted sales for a better visualization of the predicted results"
   ]
  },
  {
   "cell_type": "code",
   "execution_count": 38,
   "metadata": {},
   "outputs": [
    {
     "data": {
      "image/png": "[encoded data removed]",
      "text/plain": [
       "<Figure size 432x432 with 1 Axes>"
      ]
     },
     "metadata": {
      "needs_background": "light"
     },
     "output_type": "display_data"
    }
   ],
   "source": [
    "y_pred_ = pd.DataFrame(y_to_pred)\n",
    "y_test_ = to_pred.reset_index(drop=True, inplace=False)\n",
    "# # We create a new dataframe containing both the real (y_test) and the predicted value by the model (y_pred)\n",
    "pred_unknow = pd.concat([y_test_,y_pred_], axis=1).sort_values(1,axis=1).reset_index(drop=True)\n",
    "pred_unknow = pred_unknow.rename(columns = {0 : 'Predicted_price'})\n",
    "\n",
    "# Let's represent the preducted values vs the real SalePrice\n",
    "plt.figure(figsize=(6, 6))\n",
    "maxlimit = y_pred_.max()\n",
    "minlimit = y_pred_.min()\n",
    "\n",
    "plt.scatter(pred_unknow['Id'], pred_unknow['Predicted_price'], s=10)\n",
    "plt.xlabel('House ID')\n",
    "plt.ylabel('Predicted Sale Price')\n",
    "plt.autoscale(enable=True, axis='x', tight=True)\n",
    "plt.autoscale(enable=True, axis='y', tight=True)\n",
    "plt.title('Predicted Sale Prices')\n",
    "plt.show()"
   ]
  },
  {
   "cell_type": "markdown",
   "metadata": {},
   "source": [
    "### Evaluation Summary"
   ]
  },
  {
   "cell_type": "markdown",
   "metadata": {},
   "source": [
    "The evaluation metrics and plots of the model are thus used to validate the model within known acceptable value range and to compare between different future versions or iteration of the model for ‘prediction strength’.\n",
    "\n",
    "While the current prediction function is now ready to be applied, there are some improvements which can be made to the model:\n",
    "\n",
    "- Repeat the EDA analysis and consider the addition of more variables to the analysis\n",
    "- Use a more complex regression algorithm such as XGBOOST or SVR"
   ]
  }
 ],
 "metadata": {
  "kernelspec": {
   "display_name": "Python 3",
   "language": "python",
   "name": "python3"
  },
  "language_info": {
   "codemirror_mode": {
    "name": "ipython",
    "version": 3
   },
   "file_extension": ".py",
   "mimetype": "text/x-python",
   "name": "python",
   "nbconvert_exporter": "python",
   "pygments_lexer": "ipython3",
   "version": "3.7.3"
  }
 },
 "nbformat": 4,
 "nbformat_minor": 2
}
