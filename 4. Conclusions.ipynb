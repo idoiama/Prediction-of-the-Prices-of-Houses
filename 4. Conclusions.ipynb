{
 "cells": [
  {
   "cell_type": "markdown",
   "metadata": {},
   "source": [
    "# Conclusions"
   ]
  },
  {
   "cell_type": "markdown",
   "metadata": {},
   "source": [
    "*Ames Real State* set up a meeting a week after we met with them. Therefore, let's specify all the points extracted from this first analysis of the data:\n",
    "\n",
    "1. Of all the 81 variables we have, we have seen that not all are significant or relevant. From this first approach we have extracted which are the most influential (total  = 6).\n",
    "\n",
    "\n",
    "2. There are a couple of variables with few information so we discard them because they do not contain anything relevant.\n",
    "\n",
    "\n",
    "3. The distribution of values around the response variable (SalesPrice) is biased, so a small correction has to be applied to improve the results.\n",
    "\n",
    "\n",
    "4. During these days, we have been working on a first construction of a regression model. With this model we have obtained:\n",
    "    - 70% of the variation in house prices data which we have can be attributed to the input variables which have included. \n",
    "    - Error in model setting is around 1-2%.\n",
    "    \n",
    "\n",
    "5. We have managed to predict the unknown price of the houses they have provided us with. We see that there are some values in the prediction that are far from the distribution of values. "
   ]
  },
  {
   "cell_type": "markdown",
   "metadata": {},
   "source": [
    "# Next steps"
   ]
  },
  {
   "cell_type": "markdown",
   "metadata": {},
   "source": [
    "Building a machine learning model is not a \"plug and play\" process because the process and outcome are influenced by:\n",
    "\n",
    "- The choice of algorithm and the assumption made when building the model\n",
    "- The decision criteria for evaluating the results of the model\n",
    "- The commitment made to the model - do we make it more precise but more biased or less biased and less precise?\n",
    "\n",
    "\n",
    "Therefore, although the current prediction model is already ready to be applied, there are some improvements that can be made to increase the predictive capacity of the model (currently around 70%):\n",
    "\n",
    "- Repeat the EDA analysis and consider adding more variables to the analysis.\n",
    "- Consider using different preprocessing algorithms for the data set.\n",
    "- Use a more complex regression algorithm such as XGBOOST."
   ]
  }
 ],
 "metadata": {
  "kernelspec": {
   "display_name": "Python 3",
   "language": "python",
   "name": "python3"
  },
  "language_info": {
   "codemirror_mode": {
    "name": "ipython",
    "version": 3
   },
   "file_extension": ".py",
   "mimetype": "text/x-python",
   "name": "python",
   "nbconvert_exporter": "python",
   "pygments_lexer": "ipython3",
   "version": "3.7.3"
  }
 },
 "nbformat": 4,
 "nbformat_minor": 2
}
