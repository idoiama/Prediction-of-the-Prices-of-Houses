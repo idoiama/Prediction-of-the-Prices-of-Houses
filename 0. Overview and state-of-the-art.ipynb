{
 "cells": [
  {
   "cell_type": "markdown",
   "metadata": {},
   "source": [
    "# House Pricing"
   ]
  },
  {
   "cell_type": "markdown",
   "metadata": {},
   "source": [
    "## Description "
   ]
  },
  {
   "cell_type": "markdown",
   "metadata": {},
   "source": [
    "*AmesHouse Real State* is a real estate company located in Ames (USA) which has a team of professionals interested in improving their business model. For now, they use classic market analysis methods using different factors to try to predict the price of the housing market in their area. Their analysis methods are complete, but they have the impression that they are missing some variable.\n",
    "\n",
    "To complement and improve their predictions, *AmesHouse Real State* has contacted us because they are interested in having a powerful and accurate method to predict the price of houses located in that city. \n",
    "\n",
    "In order to solve this problem we are going to follow the Data Science methodology. Data Science is a discipline that uses scientific methods, algorithms and systems to extract insights and meaningful information from different types of data. Data science unifies statistics, data analysis and algebra in order to understand and analyze the problem"
   ]
  },
  {
   "cell_type": "markdown",
   "metadata": {},
   "source": [
    "## Procedure and methodology"
   ]
  },
  {
   "cell_type": "markdown",
   "metadata": {},
   "source": [
    "Several steps will be followed to tackle this problem, but it is important to spend some time on **understanding the client and its problem**. The first thing you have to do before you solve a problem is to define exactly what it is. You need to be able to translate data questions into something actionable.\n",
    "\n",
    "The real estate business is the sale of houses, and usually predictions are made of the number of houses to sell per fiscal year. This number of sales is translated into economic amounts and is included as a budget for the fiscal year. Therefore, it is important that the prediction of the price of a home is as close as possible to the \"future\" reality in order to minimize losses.\n",
    "\n",
    "On the other hand, AmesHouse wants to take advantage of the features that most impact and influence the price of the house. They normally want to buy a house at a low price and invest in the features that will give them the best return. For example, buying a house in a a normal location, but with future potential of the location. \n",
    "\n",
    "Having said that, now we understand why they want to make some price predictions of future houses in the area. So let's define some steps to follow:\n",
    "\n",
    "1. *Loading and exploration of the data*. In this step, we are going to load the data and inspect it. \n",
    "2. *Exploratory data analysis (EDA)*. It consists of making a deep analysis of the different variables that can help and influence the prediction. In this step will be also \"clean\" the dat or eliminate everything that is not important and/or contains errors. \n",
    "4. *Model building*. With the data \"clean\" and ordered, it is time to build your mathematical model and make the first predictions.\n",
    "5. *Conclusions*\n",
    "\n",
    "For a better understanding and in order not to extent so much the different Notebooks, each of the different steps are stored independently. You can find them in separate notebooks."
   ]
  },
  {
   "cell_type": "markdown",
   "metadata": {},
   "source": [
    "## Tools "
   ]
  },
  {
   "cell_type": "markdown",
   "metadata": {},
   "source": [
    "**Python** is one of the most popular programming languages today despite being a relatively old language. It was created in the late 1980s by Guido van Rossum -- who within the Python community is known as the Benevolent Dictator for Life -- and its name is inspired by the British comedy group Monthy Python.\n",
    "\n",
    "Unlike other programmers, those people who have been coming to Pythonhave done it because they enjoy programming and are looking for a language that makes it easier for them to do something they like better. This language gathers the best of others and is recognized because it is very clean and readable, which makes the task of programmers much easier.\n",
    "\n",
    "Its philosophy is embodied in a document call the **Zen of Python**. It was written by Tim Peters (an experienced developer in this language) that is worth sharing, because despite being thought for a programming language is a very practical philosophy for any project we have in mind (https://www.python.org/dev/peps/pep-0020/)."
   ]
  },
  {
   "cell_type": "markdown",
   "metadata": {},
   "source": [
    "Python makes life very simple, as it is made up of endless modules or libraries, which contain a multitude of functions to work with your data.\n",
    "Before executing any function, it is necessary to import the libraries in such a way:\n"
   ]
  },
  {
   "cell_type": "code",
   "execution_count": 1,
   "metadata": {},
   "outputs": [],
   "source": [
    "import math # import math module\n",
    "import math as M # import math module calling it M\n",
    "from math import sin, cos, pi # import the functions sin, cos and pi of math\n",
    "from math import * # import all functions of math"
   ]
  },
  {
   "cell_type": "markdown",
   "metadata": {},
   "source": [
    "Let's start with the first step of this project: **1. Loading and exploration of the data**"
   ]
  }
 ],
 "metadata": {
  "kernelspec": {
   "display_name": "Python 3",
   "language": "python",
   "name": "python3"
  },
  "language_info": {
   "codemirror_mode": {
    "name": "ipython",
    "version": 3
   },
   "file_extension": ".py",
   "mimetype": "text/x-python",
   "name": "python",
   "nbconvert_exporter": "python",
   "pygments_lexer": "ipython3",
   "version": "3.7.3"
  }
 },
 "nbformat": 4,
 "nbformat_minor": 2
}
